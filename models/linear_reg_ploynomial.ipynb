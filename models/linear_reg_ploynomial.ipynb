{
 "cells": [
  {
   "cell_type": "code",
   "execution_count": 1,
   "metadata": {},
   "outputs": [],
   "source": [
    "import pandas as pd\n",
    "from pandas import read_csv\n",
    "import numpy as np\n",
    "\n",
    "from sklearn import linear_model\n",
    "from sklearn.preprocessing import PolynomialFeatures\n",
    "from sklearn.metrics import mean_squared_error, mean_absolute_error\n",
    "\n",
    "from sklearn.model_selection import cross_val_score\n",
    "from sklearn.model_selection import KFold\n",
    "from sklearn.model_selection import train_test_split\n",
    "\n",
    "df = read_csv(\"./database/data3.csv\", delim_whitespace=False, header=None)\n",
    "\n",
    "df = df.iloc[1:]\n",
    "\n",
    "feature_names = ['fl','fw','mt','pl','pw','sh','sl','sw','freq','s11','gain']\n",
    "\n",
    "df.columns = feature_names\n",
    "\n",
    "df = df.apply(pd.to_numeric)\n",
    "\n",
    "x = df[['pl', 'pw', 'sh']]\n",
    "y = df[['freq', 's11', 'gain']]\n",
    "\n",
    "# print(x.head())\n",
    "# print(y.head())"
   ]
  },
  {
   "cell_type": "code",
   "execution_count": 2,
   "metadata": {},
   "outputs": [
    {
     "name": "stdout",
     "output_type": "stream",
     "text": [
      "Mean squared error:  0.49593499056104945\n",
      "Mean absolute error:  0.3339536104451866\n",
      "\n",
      "\n",
      "Predicted values are:\n",
      "  [[  0.8438279  -18.20349123   9.7280296 ]\n",
      " [  0.84020173 -17.66072948   9.34818018]\n",
      " [  0.84518924 -21.07625806   9.23360223]\n",
      " [  0.84177105 -17.06447573   9.37410772]\n",
      " [  0.84002182 -15.70482818   9.76044499]]\n",
      "\n",
      "\n",
      "Real values are:\n",
      "         freq        s11      gain\n",
      "328  0.8434 -18.801751  9.623074\n",
      "136  0.8452 -16.527380  9.450983\n",
      "239  0.8380 -22.945224  9.075258\n",
      "52   0.8533 -13.872571  9.546651\n",
      "224  0.8434 -16.610590  9.698837\n"
     ]
    }
   ],
   "source": [
    "import random\n",
    "\n",
    "# poly = PolynomialFeatures(degree=1)\n",
    "# temp = poly.fit_transform(x)\n",
    "# x_poly = pd.DataFrame(data=temp)\n",
    "# x = x_poly\n",
    "\n",
    "x_train, x_test, y_train, y_test = train_test_split(x, y, test_size = 0.25, random_state = random.randint(20, 999))\n",
    "\n",
    "from sklearn.preprocessing import StandardScaler\n",
    "\n",
    "scaler=StandardScaler()\n",
    "scaler.fit(x_train)\n",
    "\n",
    "X_train_scaled = scaler.transform(x_train)\n",
    "X_test_scaled = scaler.transform(x_test)\n",
    "\n",
    "lr_model = linear_model.LinearRegression()\n",
    "lr_model.fit(X_train_scaled, y_train)\n",
    "\n",
    "y_pred = lr_model.predict(X_test_scaled)\n",
    "\n",
    "mse = mean_squared_error(y_test, y_pred)\n",
    "mae = mean_absolute_error(y_test, y_pred)\n",
    "\n",
    "print('Mean squared error: ', mse)\n",
    "print('Mean absolute error: ', mae)\n",
    " \n",
    "print(\"\\n\")\n",
    "\n",
    "predictions = lr_model.predict(X_test_scaled[:5])\n",
    "print(\"Predicted values are:\\n \", predictions)\n",
    "\n",
    "print(\"\\n\")\n",
    "\n",
    "print(\"Real values are:\\n \", y_test[:5])"
   ]
  },
  {
   "cell_type": "code",
   "execution_count": 21,
   "metadata": {},
   "outputs": [
    {
     "name": "stdout",
     "output_type": "stream",
     "text": [
      "[1, 2, 4, 8, 9, 13]\n"
     ]
    }
   ],
   "source": [
    "arr = [1, 3, 2, 5, 4, 8, 11, 9, 13]\n",
    "\n",
    "for i in range(len(arr) - 1):\n",
    "    try:\n",
    "        if x[i] > x[i + 1]:\n",
    "            x.pop(i) \n",
    "    except:\n",
    "        break\n",
    "\n",
    "print(x)\n",
    "\n",
    "# kim jong un sort"
   ]
  }
 ],
 "metadata": {
  "kernelspec": {
   "display_name": "VENV",
   "language": "python",
   "name": "python3"
  },
  "language_info": {
   "codemirror_mode": {
    "name": "ipython",
    "version": 3
   },
   "file_extension": ".py",
   "mimetype": "text/x-python",
   "name": "python",
   "nbconvert_exporter": "python",
   "pygments_lexer": "ipython3",
   "version": "3.11.6"
  },
  "orig_nbformat": 4
 },
 "nbformat": 4,
 "nbformat_minor": 2
}
