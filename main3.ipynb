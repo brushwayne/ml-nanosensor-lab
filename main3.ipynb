{
 "cells": [
  {
   "cell_type": "code",
   "execution_count": 34,
   "metadata": {},
   "outputs": [
    {
     "name": "stdout",
     "output_type": "stream",
     "text": [
      "    pl   pw  sh\n",
      "1  142  186  86\n",
      "2  136  180  81\n",
      "3  136  180  82\n",
      "4  136  180  83\n",
      "5  136  180  84\n",
      "     freq        s11      gain\n",
      "1  0.8416 -18.209104  9.709533\n",
      "2  0.8452 -16.384342  9.344458\n",
      "3  0.8470 -15.380046  9.498012\n",
      "4  0.8470 -14.914733  9.523493\n",
      "5  0.8470 -14.330613  9.596769\n"
     ]
    }
   ],
   "source": [
    "import pandas as pd\n",
    "from pandas import read_csv\n",
    "\n",
    "from sklearn import linear_model\n",
    "from sklearn.metrics import mean_squared_error, mean_absolute_error\n",
    "\n",
    "from sklearn.model_selection import cross_val_score\n",
    "from sklearn.model_selection import KFold\n",
    "from sklearn.model_selection import train_test_split\n",
    "\n",
    "df = read_csv(\"./database/data3.csv\", delim_whitespace=False, header=None)\n",
    "\n",
    "df = df.iloc[1:]\n",
    "\n",
    "feature_names = ['fl','fw','mt','pl','pw','sh','sl','sw','freq','s11','gain']\n",
    "\n",
    "df.columns = feature_names\n",
    "\n",
    "df = df.apply(pd.to_numeric)\n",
    "\n",
    "x = df[['pl', 'pw', 'sh']]\n",
    "y = df[['freq', 's11', 'gain']]\n",
    "\n",
    "# print(df.head())\n",
    "\n",
    "# print(df.info())\n",
    "\n",
    "print(x.head())\n",
    "print(y.head())"
   ]
  },
  {
   "cell_type": "code",
   "execution_count": 35,
   "metadata": {},
   "outputs": [
    {
     "name": "stdout",
     "output_type": "stream",
     "text": [
      "Mean squared error:  0.546415053071998\n",
      "Mean absolute error:  0.3578114271809621\n",
      "\n",
      "\n",
      "Predicted values are:\n",
      "  [[  0.84048253 -16.57893807   9.66966854]\n",
      " [  0.83836481 -15.86566975   9.42156138]\n",
      " [  0.84509144 -19.15286494   9.64695243]\n",
      " [  0.83488526 -12.4915142    9.68004459]\n",
      " [  0.85032718 -21.9313813    9.42786628]]\n",
      "\n",
      "\n",
      "Real values are:\n",
      "         freq        s11      gain\n",
      "230  0.8452 -16.944651  9.645635\n",
      "81   0.8461 -15.132583  9.532272\n",
      "327  0.8452 -18.666085  9.664062\n",
      "7    0.8452 -14.045951  9.625273\n",
      "310  0.8425 -22.165947  9.430760\n"
     ]
    }
   ],
   "source": [
    "x_train, x_test, y_train, y_test = train_test_split(x, y, test_size = 0.25, random_state = 10)\n",
    "\n",
    "from sklearn.preprocessing import StandardScaler\n",
    "\n",
    "scaler=StandardScaler()\n",
    "scaler.fit(x_train)\n",
    "\n",
    "X_train_scaled = scaler.transform(x_train)\n",
    "X_test_scaled = scaler.transform(x_test)\n",
    "\n",
    "lr_model = linear_model.LinearRegression()\n",
    "lr_model.fit(X_train_scaled, y_train)\n",
    "\n",
    "y_pred = lr_model.predict(X_test_scaled)\n",
    "\n",
    "mse = mean_squared_error(y_test, y_pred)\n",
    "mae = mean_absolute_error(y_test, y_pred)\n",
    "\n",
    "print('Mean squared error: ', mse)\n",
    "print('Mean absolute error: ', mae)\n",
    "\n",
    "print(\"\\n\")\n",
    "\n",
    "predictions = lr_model.predict(X_test_scaled[:5])\n",
    "print(\"Predicted values are:\\n \", predictions)\n",
    "\n",
    "print(\"\\n\")\n",
    "\n",
    "print(\"Real values are:\\n \", y_test[:5])"
   ]
  },
  {
   "cell_type": "code",
   "execution_count": null,
   "metadata": {},
   "outputs": [],
   "source": []
  }
 ],
 "metadata": {
  "kernelspec": {
   "display_name": "VENV",
   "language": "python",
   "name": "python3"
  },
  "language_info": {
   "codemirror_mode": {
    "name": "ipython",
    "version": 3
   },
   "file_extension": ".py",
   "mimetype": "text/x-python",
   "name": "python",
   "nbconvert_exporter": "python",
   "pygments_lexer": "ipython3",
   "version": "3.11.6"
  },
  "orig_nbformat": 4
 },
 "nbformat": 4,
 "nbformat_minor": 2
}
