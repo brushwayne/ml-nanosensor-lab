{
 "cells": [
  {
   "cell_type": "code",
   "execution_count": 23,
   "metadata": {},
   "outputs": [
    {
     "name": "stdout",
     "output_type": "stream",
     "text": [
      "<class 'pandas.core.frame.DataFrame'>\n",
      "RangeIndex: 998 entries, 1 to 998\n",
      "Data columns (total 7 columns):\n",
      " #   Column               Non-Null Count  Dtype  \n",
      "---  ------               --------------  -----  \n",
      " 0   Serial Number        998 non-null    int64  \n",
      " 1   Substrate Thickness  998 non-null    int64  \n",
      " 2   Patch Length         998 non-null    int64  \n",
      " 3   Patch Width          998 non-null    int64  \n",
      " 4   Frequency            998 non-null    float64\n",
      " 5   Return Loss (s11)    998 non-null    float64\n",
      " 6   Gain                 998 non-null    float64\n",
      "dtypes: float64(3), int64(4)\n",
      "memory usage: 54.7 KB\n",
      "None\n"
     ]
    }
   ],
   "source": [
    "\n",
    "import pandas as pd\n",
    "from pandas import read_csv\n",
    "\n",
    "from sklearn import linear_model\n",
    "from sklearn.metrics import mean_squared_error, mean_absolute_error\n",
    "\n",
    "from sklearn.model_selection import cross_val_score\n",
    "from sklearn.model_selection import KFold\n",
    "from sklearn.model_selection import train_test_split\n",
    "\n",
    "df = read_csv(\"./database/run1.csv\", delim_whitespace=False, header=None)\n",
    "\n",
    "df = df.iloc[1:]\n",
    "\n",
    "feature_names = ['Serial Number', 'Substrate Thickness', 'Patch Length', 'Patch Width', 'Frequency', 'Return Loss (s11)', 'Gain']\n",
    "\n",
    "df.columns = feature_names\n",
    "\n",
    "df = df.apply(pd.to_numeric)\n",
    "\n",
    "x = df[['Substrate Thickness', 'Patch Length', 'Patch Width']]\n",
    "y = df[['Frequency', 'Return Loss (s11)', 'Gain']]\n",
    "\n",
    "# print(df.head())\n",
    "\n",
    "print(df.info())"
   ]
  },
  {
   "cell_type": "code",
   "execution_count": 26,
   "metadata": {},
   "outputs": [
    {
     "name": "stdout",
     "output_type": "stream",
     "text": [
      "Mean squared error:  32.07986890512293\n",
      "Mean absolute error:  2.285183854305602\n",
      "\n",
      "\n",
      "Predicted values are:\n",
      "  [[  0.65505359 -21.47816764   9.5166675 ]\n",
      " [  0.64627708 -24.22700458   9.13632189]\n",
      " [  0.68400515 -36.42282951   8.66569576]\n",
      " [  0.64078435 -21.87248627   9.38855014]\n",
      " [  0.67607935 -30.20259064   8.89922838]]\n",
      "\n",
      "\n",
      "Real values are:\n",
      "       Frequency  Return Loss (s11)    Gain\n",
      "659     0.6427            -19.008  9.8686\n",
      "223     0.6760            -30.517  9.2034\n",
      "976     0.6742            -30.859  8.6722\n",
      "251     0.6571            -23.247  9.6953\n",
      "834     0.6796            -33.959  8.6921\n"
     ]
    }
   ],
   "source": [
    "x_train, x_test, y_train, y_test = train_test_split(x, y, test_size = 0.25, random_state = 10)\n",
    "\n",
    "from sklearn.preprocessing import StandardScaler\n",
    "\n",
    "scaler=StandardScaler()\n",
    "scaler.fit(x_train)\n",
    "\n",
    "X_train_scaled = scaler.transform(x_train)\n",
    "X_test_scaled = scaler.transform(x_test)\n",
    "\n",
    "lr_model = linear_model.LinearRegression()\n",
    "lr_model.fit(X_train_scaled, y_train)\n",
    "\n",
    "y_pred = lr_model.predict(X_test_scaled)\n",
    "\n",
    "mse = mean_squared_error(y_test, y_pred)\n",
    "mae = mean_absolute_error(y_test, y_pred)\n",
    "\n",
    "print('Mean squared error: ', mse)\n",
    "print('Mean absolute error: ', mae)\n",
    "\n",
    "print(\"\\n\")\n",
    "\n",
    "predictions = lr_model.predict(X_test_scaled[:5])\n",
    "print(\"Predicted values are:\\n \", predictions)\n",
    "\n",
    "print(\"\\n\")\n",
    "\n",
    "print(\"Real values are:\\n \", y_test[:5])"
   ]
  },
  {
   "cell_type": "code",
   "execution_count": null,
   "metadata": {},
   "outputs": [],
   "source": []
  }
 ],
 "metadata": {
  "kernelspec": {
   "display_name": "VENV",
   "language": "python",
   "name": "python3"
  },
  "language_info": {
   "codemirror_mode": {
    "name": "ipython",
    "version": 3
   },
   "file_extension": ".py",
   "mimetype": "text/x-python",
   "name": "python",
   "nbconvert_exporter": "python",
   "pygments_lexer": "ipython3",
   "version": "3.11.6"
  },
  "orig_nbformat": 4
 },
 "nbformat": 4,
 "nbformat_minor": 2
}
