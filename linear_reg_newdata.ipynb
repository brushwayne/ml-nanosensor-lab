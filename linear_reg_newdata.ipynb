{
 "cells": [
  {
   "cell_type": "code",
   "execution_count": 4,
   "metadata": {},
   "outputs": [
    {
     "name": "stdout",
     "output_type": "stream",
     "text": [
      "<class 'pandas.core.frame.DataFrame'>\n",
      "Index: 1913 entries, 2 to 2002\n",
      "Data columns (total 11 columns):\n",
      " #   Column  Non-Null Count  Dtype  \n",
      "---  ------  --------------  -----  \n",
      " 0   fl      1913 non-null   float64\n",
      " 1   fw      1913 non-null   float64\n",
      " 2   mt      1913 non-null   float64\n",
      " 3   pl      1913 non-null   float64\n",
      " 4   pw      1913 non-null   float64\n",
      " 5   sh      1913 non-null   float64\n",
      " 6   sl      1913 non-null   float64\n",
      " 7   sw      1913 non-null   float64\n",
      " 8   freq    1913 non-null   float64\n",
      " 9   s11     1913 non-null   float64\n",
      " 10  gain    1913 non-null   float64\n",
      "dtypes: float64(11)\n",
      "memory usage: 179.3 KB\n",
      "None\n",
      "      pl     pw    sh\n",
      "2  101.0  149.0  49.0\n",
      "3  101.0  159.0  49.0\n",
      "4  101.0  169.0  49.0\n",
      "5  101.0  179.0  49.0\n",
      "6  101.0  189.0  49.0\n",
      "     freq        s11      gain\n",
      "2  0.6283 -13.859784  9.581103\n",
      "3  0.6238 -16.181562  9.550628\n",
      "4  0.6202 -19.489268  9.471676\n",
      "5  0.6220 -26.957985  9.391445\n",
      "6  0.6175 -33.616601  9.196251\n"
     ]
    }
   ],
   "source": [
    "import pandas as pd\n",
    "from pandas import read_csv\n",
    "\n",
    "from sklearn import linear_model\n",
    "from sklearn.metrics import mean_squared_error, mean_absolute_error\n",
    "\n",
    "from sklearn.model_selection import cross_val_score\n",
    "from sklearn.model_selection import KFold\n",
    "from sklearn.model_selection import train_test_split\n",
    "\n",
    "df = read_csv(\"./database/data_d5.csv\", delim_whitespace=False, header=None)\n",
    "\n",
    "df = df.iloc[1:]\n",
    "\n",
    "feature_names = ['fl','fw','mt','pl','pw','sh','sl','sw','freq','s11','gain']\n",
    "\n",
    "df.columns = feature_names\n",
    "\n",
    "df = df.apply(pd.to_numeric)\n",
    "\n",
    "df = df.drop(df[df.freq == 1].index)\n",
    "\n",
    "x = df[['pl', 'pw', 'sh']]\n",
    "y = df[['freq', 's11', 'gain']]\n",
    "\n",
    "# print(df.head())\n",
    "\n",
    "print(df.info())\n",
    "\n",
    "print(x.head())\n",
    "print(y.head())"
   ]
  },
  {
   "cell_type": "code",
   "execution_count": 24,
   "metadata": {},
   "outputs": [
    {
     "name": "stdout",
     "output_type": "stream",
     "text": [
      "Mean squared error:  0.4291943032765139\n",
      "Mean absolute error:  0.31100432421731483\n",
      "\n",
      "\n",
      "Predicted values are:\n",
      "  [[  0.84474031 -18.41738721   9.73085538]\n",
      " [  0.84304616 -17.53224263   9.25406878]\n",
      " [  0.8447087  -14.83621442   9.62541302]\n",
      " [  0.8448883  -15.77720721   9.56092984]\n",
      " [  0.84233328 -21.02604175   9.42934261]]\n",
      "\n",
      "\n",
      "Real values are:\n",
      "         freq        s11      gain\n",
      "321  0.8443 -18.327120  9.696162\n",
      "93   0.8434 -17.093086  9.278584\n",
      "146  0.8443 -15.206810  9.647477\n",
      "131  0.8452 -15.358511  9.673221\n",
      "339  0.8443 -20.436876  9.565874\n"
     ]
    }
   ],
   "source": [
    "import random\n",
    "\n",
    "x_train, x_test, y_train, y_test = train_test_split(x, y, test_size = 0.25, random_state = random.randint(20, 999))\n",
    "\n",
    "from sklearn.preprocessing import StandardScaler\n",
    "\n",
    "scaler=StandardScaler()\n",
    "scaler.fit(x_train)\n",
    "\n",
    "X_train_scaled = scaler.transform(x_train)\n",
    "X_test_scaled = scaler.transform(x_test)\n",
    "\n",
    "lr_model = linear_model.LinearRegression()\n",
    "lr_model.fit(X_train_scaled, y_train)\n",
    "\n",
    "y_pred = lr_model.predict(X_test_scaled)\n",
    "\n",
    "mse = mean_squared_error(y_test, y_pred)\n",
    "mae = mean_absolute_error(y_test, y_pred)\n",
    "\n",
    "print('Mean squared error: ', mse)\n",
    "print('Mean absolute error: ', mae)\n",
    "\n",
    "print(\"\\n\")\n",
    "\n",
    "predictions = lr_model.predict(X_test_scaled[:5])\n",
    "print(\"Predicted values are:\\n \", predictions)\n",
    "\n",
    "print(\"\\n\")\n",
    "\n",
    "print(\"Real values are:\\n \", y_test[:5])"
   ]
  },
  {
   "cell_type": "code",
   "execution_count": null,
   "metadata": {},
   "outputs": [],
   "source": []
  }
 ],
 "metadata": {
  "kernelspec": {
   "display_name": "VENV",
   "language": "python",
   "name": "python3"
  },
  "language_info": {
   "codemirror_mode": {
    "name": "ipython",
    "version": 3
   },
   "file_extension": ".py",
   "mimetype": "text/x-python",
   "name": "python",
   "nbconvert_exporter": "python",
   "pygments_lexer": "ipython3",
   "version": "3.11.6"
  },
  "orig_nbformat": 4
 },
 "nbformat": 4,
 "nbformat_minor": 2
}
