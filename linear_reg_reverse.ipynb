{
 "cells": [
  {
   "cell_type": "code",
   "execution_count": 1,
   "metadata": {},
   "outputs": [
    {
     "name": "stdout",
     "output_type": "stream",
     "text": [
      "     freq        s11      gain\n",
      "1  0.8416 -18.209104  9.709533\n",
      "2  0.8452 -16.384342  9.344458\n",
      "3  0.8470 -15.380046  9.498012\n",
      "4  0.8470 -14.914733  9.523493\n",
      "5  0.8470 -14.330613  9.596769\n",
      "    pl   pw  sh\n",
      "1  142  186  86\n",
      "2  136  180  81\n",
      "3  136  180  82\n",
      "4  136  180  83\n",
      "5  136  180  84\n"
     ]
    }
   ],
   "source": [
    "import pandas as pd\n",
    "from pandas import read_csv\n",
    "\n",
    "from sklearn import linear_model\n",
    "from sklearn.metrics import mean_squared_error, mean_absolute_error\n",
    "\n",
    "from sklearn.model_selection import cross_val_score\n",
    "from sklearn.model_selection import KFold\n",
    "from sklearn.model_selection import train_test_split\n",
    "\n",
    "df = read_csv(\"./database/data3.csv\", delim_whitespace=False, header=None)\n",
    "\n",
    "df = df.iloc[1:]\n",
    "\n",
    "feature_names = ['fl','fw','mt','pl','pw','sh','sl','sw','freq','s11','gain']\n",
    "\n",
    "df.columns = feature_names\n",
    "\n",
    "df = df.apply(pd.to_numeric)\n",
    "\n",
    "y = df[['pl', 'pw', 'sh']] aaa\n",
    "x = df[['freq', 's11', 'gain']]\n",
    "\n",
    "# print(df.head())\n",
    "\n",
    "# print(df.info())\n",
    "\n",
    "print(x.head())\n",
    "print(y.head())"
   ]
  },
  {
   "cell_type": "code",
   "execution_count": 4,
   "metadata": {},
   "outputs": [
    {
     "name": "stdout",
     "output_type": "stream",
     "text": [
      "Mean squared error:  1.786258032376976\n",
      "Mean absolute error:  1.0228071411917095\n",
      "\n",
      "\n",
      "Predicted values are:\n",
      "  [[139.75317427 182.92366614  84.14316245]\n",
      " [137.09419715 183.25349807  83.51999412]\n",
      " [141.42029922 182.76446576  84.02390852]\n",
      " [137.04416346 183.17394476  84.42452525]\n",
      " [142.43185919 182.87616132  81.85384892]]\n",
      "\n",
      "\n",
      "Real values are:\n",
      "        pl   pw  sh\n",
      "230  140  184  85\n",
      "81   137  184  83\n",
      "327  142  184  84\n",
      "7    136  180  86\n",
      "310  142  182  81\n"
     ]
    }
   ],
   "source": [
    "x_train, x_test, y_train, y_test = train_test_split(x, y, test_size = 0.25, random_state = 10)\n",
    "\n",
    "from sklearn.preprocessing import StandardScaler\n",
    "\n",
    "scaler=StandardScaler()\n",
    "scaler.fit(x_train)\n",
    "\n",
    "X_train_scaled = scaler.transform(x_train)\n",
    "X_test_scaled = scaler.transform(x_test)\n",
    "\n",
    "lr_model = linear_model.LinearRegression()\n",
    "lr_model.fit(X_train_scaled, y_train)\n",
    "\n",
    "y_pred = lr_model.predict(X_test_scaled)\n",
    "\n",
    "mse = mean_squared_error(y_test, y_pred)\n",
    "mae = mean_absolute_error(y_test, y_pred)\n",
    "\n",
    "print('Mean squared error: ', mse)\n",
    "print('Mean absolute error: ', mae)\n",
    "\n",
    "print(\"\\n\")\n",
    "\n",
    "predictions = lr_model.predict(X_test_scaled[:5])\n",
    "print(\"Predicted values are:\\n \", predictions)\n",
    "\n",
    "print(\"\\n\")\n",
    "\n",
    "print(\"Real values are:\\n \", y_test[:5])"
   ]
  },
  {
   "cell_type": "code",
   "execution_count": null,
   "metadata": {},
   "outputs": [],
   "source": []
  }
 ],
 "metadata": {
  "kernelspec": {
   "display_name": "VENV",
   "language": "python",
   "name": "python3"
  },
  "language_info": {
   "codemirror_mode": {
    "name": "ipython",
    "version": 3
   },
   "file_extension": ".py",
   "mimetype": "text/x-python",
   "name": "python",
   "nbconvert_exporter": "python",
   "pygments_lexer": "ipython3",
   "version": "3.11.6"
  },
  "orig_nbformat": 4
 },
 "nbformat": 4,
 "nbformat_minor": 2
}
